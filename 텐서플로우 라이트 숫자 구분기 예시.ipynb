{
  "nbformat": 4,
  "nbformat_minor": 0,
  "metadata": {
    "colab": {
      "name": "Untitled2.ipynb",
      "provenance": [],
      "authorship_tag": "ABX9TyNQWI/mQgZSLhUgFKxuL9Yy",
      "include_colab_link": true
    },
    "kernelspec": {
      "name": "python3",
      "display_name": "Python 3"
    }
  },
  "cells": [
    {
      "cell_type": "markdown",
      "metadata": {
        "id": "view-in-github",
        "colab_type": "text"
      },
      "source": [
        "<a href=\"https://colab.research.google.com/github/DongChyeon/Tensorflow-Study/blob/main/%ED%85%90%EC%84%9C%ED%94%8C%EB%A1%9C%EC%9A%B0%20%EB%9D%BC%EC%9D%B4%ED%8A%B8%20%EC%88%AB%EC%9E%90%20%EA%B5%AC%EB%B6%84%EA%B8%B0%20%EC%98%88%EC%8B%9C.ipynb\" target=\"_parent\"><img src=\"https://colab.research.google.com/assets/colab-badge.svg\" alt=\"Open In Colab\"/></a>"
      ]
    },
    {
      "cell_type": "markdown",
      "metadata": {
        "id": "GuSrJaQGRUSE"
      },
      "source": [
        "<h3>사용할 라이브러리 임포트</h3>"
      ]
    },
    {
      "cell_type": "code",
      "metadata": {
        "id": "vQaYqiTgRj_Z"
      },
      "source": [
        "import tensorflow as tf\r\n",
        "from tensorflow import keras\r\n",
        "\r\n",
        "import numpy as np\r\n",
        "import matplotlib.pyplot as plt\r\n",
        "import random"
      ],
      "execution_count": null,
      "outputs": []
    },
    {
      "cell_type": "markdown",
      "metadata": {
        "id": "UHD_X_YfRm0E"
      },
      "source": [
        "<h3>keras가 제공하는 MNIST 데이터셋 다운로드</h3>"
      ]
    },
    {
      "cell_type": "code",
      "metadata": {
        "id": "UXetsCyeRvkB"
      },
      "source": [
        "# keras가 제공하는 MNiST 데이터셋을 다운받고, 이를 훈련용 데이터셋과 테스트용 데이터셋으로 나눔\r\n",
        "mnist = keras.datasets.mnist\r\n",
        "(train_images, train_labels), (test_images, test_labels) = mnist.load_data();\r\n",
        "\r\n",
        "# 이미지 픽셀값을 0과 1로 정규화함\r\n",
        "train_images = train_images / 255.0\r\n",
        "test_images = test_images / 255.0\r\n",
        "\r\n",
        "# 훈련용 데이터셋의 처음 25개의 이미지를 보여줌\r\n",
        "plt.figure(figsize=(10,10))\r\n",
        "for i in range(25):\r\n",
        "  plt.subplot(5,5,i+1)\r\n",
        "  plt.xticks([])\r\n",
        "  plt.yticks([])\r\n",
        "  plt.grid(False)\r\n",
        "  plt.imshow(train_images[i], cmap=plt.cm.gray)\r\n",
        "  plt.xlabel(train_labels[i])\r\n",
        "plt.show()"
      ],
      "execution_count": null,
      "outputs": []
    },
    {
      "cell_type": "markdown",
      "metadata": {
        "id": "-wFGeNr_R18d"
      },
      "source": [
        "<h3>숫자 이미지 판별 모델 학습</h3>"
      ]
    },
    {
      "cell_type": "code",
      "metadata": {
        "id": "Y-vmHuNdR76g"
      },
      "source": [
        "# 모델 아키텍처 정의\r\n",
        "model = keras.Sequential([\r\n",
        "  keras.layers.InputLayer(input_shape=(28,28)),\r\n",
        "  keras.layers.Reshape(target_shape=(28,28,1)),\r\n",
        "  keras.layers.Conv2D(filters=32, kernel_size=(3,3), activation=tf.nn.relu),\r\n",
        "  keras.layers.Conv2D(filters=64, kernel_size=(3,3), activation=tf.nn.relu),\r\n",
        "  keras.layers.MaxPooling2D(pool_size=(2,2)),\r\n",
        "  keras.layers.Dropout(0.25),\r\n",
        "  keras.layers.Flatten(),\r\n",
        "  keras.layers.Dense(10)\r\n",
        "])\r\n",
        "\r\n",
        "# 모델을 어떻게 학습시킬지 정의\r\n",
        "model.compile(optimizer='adam',\r\n",
        "              loss=tf.keras.losses.SparseCategoricalCrossentropy(from_logits=True),\r\n",
        "              metrics=['accuracy'])\r\n",
        "\r\n",
        "# 숫자 분류 모델 학습\r\n",
        "model.fit(train_images, train_labels, epochs=5)\r\n",
        "\r\n",
        "model.summary()"
      ],
      "execution_count": null,
      "outputs": []
    },
    {
      "cell_type": "markdown",
      "metadata": {
        "id": "06D-DClqSB8Q"
      },
      "source": [
        "<h3>모델 평가</h3>"
      ]
    },
    {
      "cell_type": "code",
      "metadata": {
        "id": "6yqaXOcVSJEL"
      },
      "source": [
        "# 테스트 데이터셋을 이용한 모델 평가\r\n",
        "test_loss, test_acc = model.evaluate(test_images, test_labels)\r\n",
        "print('Test accuracy : ', test_acc)\r\n",
        "\r\n",
        "def get_label_color(val1, val2):\r\n",
        "  if val1 == val2:\r\n",
        "    return 'black'\r\n",
        "  else:\r\n",
        "    return 'red'\r\n",
        "\r\n",
        "predictions = model.predict(test_images)\r\n",
        "\r\n",
        "prediction_digits = np.argmax(predictions, axis=1)\r\n",
        "\r\n",
        "plt.figure(figsize=(18,18))\r\n",
        "for i in range(100):\r\n",
        "  ax = plt.subplot(10,10,i+1)\r\n",
        "  plt.xticks([])\r\n",
        "  plt.yticks([])\r\n",
        "  plt.grid(False)\r\n",
        "  image_index = random.randint(0,len(prediction_digits))\r\n",
        "  plt.imshow(test_images[image_index], cmap=plt.cm.gray)\r\n",
        "  ax.xaxis.label.set_color(get_label_color(prediction_digits[image_index],test_labels[image_index]))\r\n",
        "  plt.xlabel('Predicted : %d' % prediction_digits[image_index])\r\n",
        "plt.show()"
      ],
      "execution_count": null,
      "outputs": []
    },
    {
      "cell_type": "markdown",
      "metadata": {
        "id": "0mQx-1s7SO_1"
      },
      "source": [
        "<h3>keras 모델을 Tensorflow Lite 모델로 변환</h3>"
      ]
    },
    {
      "cell_type": "code",
      "metadata": {
        "id": "nuiR30mLSTcf"
      },
      "source": [
        "# keras 모델을 TF lite 모델로 변환\r\n",
        "converter = tf.lite.TFLiteConverter.from_keras_model(model)\r\n",
        "tflite_float_model = converter.convert()\r\n",
        "\r\n",
        "# 모델의 크기를 KB 단위로 보여줌\r\n",
        "float_model_size = len(tflite_float_model) / 1024\r\n",
        "print('Float model size = %dKBs' % float_model_size)\r\n",
        "\r\n",
        "# 양자화를 활용해서 한 번 더 변환 (용량을 더 줄여줌)\r\n",
        "converter.optimizations = [tf.lite.Optimize.DEFAULT]\r\n",
        "tflite_quantized_model = converter.convert()\r\n",
        "\r\n",
        "# 모델의 크기를 비교\r\n",
        "quantized_model_size = len(tflite_quantized_model) / 1024\r\n",
        "print('Quantized model size = %dKBs' % quantized_model_size)\r\n",
        "print('which is about %d%% of the float model size.' % (quantized_model_size * 100 / float_model_size))"
      ],
      "execution_count": null,
      "outputs": []
    },
    {
      "cell_type": "markdown",
      "metadata": {
        "id": "xsWUfFlPSZ1S"
      },
      "source": [
        "<h3>Tensorflow Lite 모델 평가</h3>"
      ]
    },
    {
      "cell_type": "code",
      "metadata": {
        "id": "BoQHGDLRSeCI"
      },
      "source": [
        "def evaluate_tflite_model(tflite_model):\r\n",
        "  interpreter = tf.lite.Interpreter(model_content=tflite_model)\r\n",
        "  interpreter.allocate_tensors()\r\n",
        "  input_tensor_index = interpreter.get_input_details()[0][\"index\"]\r\n",
        "  output = interpreter.tensor(interpreter.get_output_details()[0][\"index\"])\r\n",
        "\r\n",
        "  # 테스트 데이터셋의 모든 이미지에 대해 추론 수행\r\n",
        "  prediction_digits = []\r\n",
        "  for test_image in test_images:\r\n",
        "    test_image = np.expand_dims(test_image, axis=0).astype(np.float32)\r\n",
        "    interpreter.set_tensor(input_tensor_index, test_image)\r\n",
        "\r\n",
        "    interpreter.invoke()\r\n",
        "\r\n",
        "    digit = np.argmax(output()[0])\r\n",
        "    prediction_digits.append(digit)\r\n",
        "\r\n",
        "  accurate_count = 0\r\n",
        "  for index in range(len(prediction_digits)):\r\n",
        "    if prediction_digits[index] == test_labels[index]:\r\n",
        "      accurate_count += 1\r\n",
        "  accuracy = accurate_count * 1.0 / len(prediction_digits)\r\n",
        "  \r\n",
        "  return accuracy\r\n",
        "\r\n",
        "# 모델의 정확도를 보여줌\r\n",
        "float_accuracy = evaluate_tflite_model(tflite_float_model)\r\n",
        "print('Float model accuracy = %.4f' % float_accuracy)\r\n",
        "\r\n",
        "# 양자화 모델과의 정확도를 비교\r\n",
        "quantized_accuracy = evaluate_tflite_model(tflite_quantized_model)\r\n",
        "print('Quantized model accuracy = %.4f' % quantized_accuracy)\r\n",
        "print('Accuracy drop = %.4f' % (float_accuracy - quantized_accuracy))"
      ],
      "execution_count": null,
      "outputs": []
    },
    {
      "cell_type": "markdown",
      "metadata": {
        "id": "vtB14vidShxS"
      },
      "source": [
        "<h3>모델 다운로드</h3>"
      ]
    },
    {
      "cell_type": "code",
      "metadata": {
        "id": "erS-kdy88Bwe"
      },
      "source": [
        "# 양자화 모델을 다운로드\r\n",
        "f = open('mnist.tflite', \"wb\")\r\n",
        "f.write(tflite_quantized_model)\r\n",
        "f.close()\r\n",
        "\r\n",
        "from google.colab import files\r\n",
        "files.download('mnist.tflite')\r\n",
        "\r\n",
        "print('`mnist.tflite` has been downloaded')"
      ],
      "execution_count": null,
      "outputs": []
    },
    {
      "cell_type": "markdown",
      "metadata": {
        "id": "XTPGjTGhSn5-"
      },
      "source": [
        "자세한 내용은 https://colab.research.google.com/github/tensorflow/examples/blob/master/lite/codelabs/digit_classifier/ml/step2_train_ml_model.ipynb?hl=ko#scrollTo=r0WlLrJcnwWp 에..."
      ]
    }
  ]
}